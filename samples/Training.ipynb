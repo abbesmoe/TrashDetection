{
  "nbformat": 4,
  "nbformat_minor": 0,
  "metadata": {
    "colab": {
      "name": "Training.ipynb",
      "provenance": [],
      "collapsed_sections": []
    },
    "kernelspec": {
      "display_name": "Python 3",
      "name": "python3"
    },
    "language_info": {
      "name": "python"
    },
    "accelerator": "GPU"
  },
  "cells": [
    {
      "cell_type": "markdown",
      "metadata": {
        "id": "6M1pr2fL7zfi"
      },
      "source": [
        "#Change runtime type to GPU"
      ]
    },
    {
      "cell_type": "code",
      "metadata": {
        "id": "DbmSsHdzee4m"
      },
      "source": [
        "# Only clone once and drag it to your google drive after next block\n",
        "!git clone https://github.com/abbesmoe/Taco-Mask"
      ],
      "execution_count": null,
      "outputs": []
    },
    {
      "cell_type": "code",
      "metadata": {
        "id": "Cjj3m9NrCOrg"
      },
      "source": [
        "# Suggestion: Use google drive so everything auto saves and you dont lose progress\n",
        "from google.colab import drive\n",
        "\n",
        "drive.mount('/content/gdrive')"
      ],
      "execution_count": null,
      "outputs": []
    },
    {
      "cell_type": "code",
      "metadata": {
        "id": "WiFndmwVfW97"
      },
      "source": [
        "# We are using older versions of keras and tensorflow to run to train\n",
        "!pip install keras==2.1.6\n",
        "!pip install 'h5py==2.10.0'"
      ],
      "execution_count": null,
      "outputs": []
    },
    {
      "cell_type": "code",
      "metadata": {
        "id": "K4wHntgnt8Q4"
      },
      "source": [
        "%tensorflow_version 1.x"
      ],
      "execution_count": null,
      "outputs": []
    },
    {
      "cell_type": "code",
      "metadata": {
        "id": "jFv2F3aEfxRm"
      },
      "source": [
        "# Change directory to /detector\n",
        "# %cd /content/gdrive/MyDrive/\n",
        "%cd Taco-Mask/TACO/detector"
      ],
      "execution_count": null,
      "outputs": []
    },
    {
      "cell_type": "code",
      "metadata": {
        "id": "d_lsKOlff0u2"
      },
      "source": [
        "# Import packages\n",
        "%matplotlib inline\n",
        "import csv\n",
        "import dataset\n",
        "import json\n",
        "import matplotlib.pyplot as plt\n",
        "import model as modellib\n",
        "import numpy as np\n",
        "import os\n",
        "import pandas as pd\n",
        "import skimage.io\n",
        "import visualize\n",
        "from config import Config\n",
        "from os import path\n",
        "from PIL import Image"
      ],
      "execution_count": null,
      "outputs": []
    },
    {
      "cell_type": "markdown",
      "metadata": {
        "id": "54c3KVEl1sfQ"
      },
      "source": [
        "# Train Dataset"
      ]
    },
    {
      "cell_type": "code",
      "metadata": {
        "id": "l_a3A6PsJfRl"
      },
      "source": [
        "# Not necessary to run unless you change map or add more annotated images\n",
        "!python3 split_dataset.py --dataset_dir ../data --nr_trials 1"
      ],
      "execution_count": null,
      "outputs": []
    },
    {
      "cell_type": "code",
      "metadata": {
        "id": "bQxSP_uTNhC-"
      },
      "source": [
        "# Train a new model starting from pre-trained taco weights on train set split #0\n",
        "!python3 -W ignore detector.py train --model=taco --dataset=../data --class_map=taco_config/map_new.csv --round 0"
      ],
      "execution_count": null,
      "outputs": []
    },
    {
      "cell_type": "code",
      "metadata": {
        "id": "j7-kGMKp_A0Q"
      },
      "source": [
        "# Continue training a model that you had trained earlier\n",
        "!python3 -W ignore detector.py train  --dataset=../data --model=taco20210730T1340 --class_map=./taco_config/map_new.csv --round 0 --lrate=0.01"
      ],
      "execution_count": null,
      "outputs": []
    },
    {
      "cell_type": "code",
      "metadata": {
        "id": "dYFdCKeC10Hl"
      },
      "source": [
        "!python3 detector.py test --dataset=../data --model=taco20210730T1340 --round 0 --class_map=./taco_config/map_new.csv"
      ],
      "execution_count": null,
      "outputs": []
    },
    {
      "cell_type": "markdown",
      "metadata": {
        "id": "Jv1ZYsEl8EVD"
      },
      "source": [
        "# Test new weights"
      ]
    },
    {
      "cell_type": "code",
      "metadata": {
        "id": "QyhvSPdKgjKJ"
      },
      "source": [
        "# check class names\n",
        "class_map = {}\n",
        "with open(\"taco_config/map_10.csv\") as csvfile:\n",
        "    reader = csv.reader(csvfile)\n",
        "    class_map = {row[0]:row[1] for row in reader}\n",
        "\n",
        "TACO_DIR = \"../data/\"\n",
        "round = None \n",
        "subset = \"train\"\n",
        "dataset = dataset.Taco()\n",
        "taco = dataset.load_taco(TACO_DIR, round, subset, class_map=class_map, return_taco=True)\n",
        "\n",
        "dataset.prepare()\n",
        "\n",
        "print(\"Class Count: {}\".format(dataset.num_classes))\n",
        "for i, info in enumerate(dataset.class_info):\n",
        "    print(\"'{}',\".format(info['name']))"
      ],
      "execution_count": null,
      "outputs": []
    },
    {
      "cell_type": "code",
      "metadata": {
        "id": "DPSE4KR2hmX2"
      },
      "source": [
        "# create config and override hyperparameters\n",
        "class TacoTestConfig(Config):\n",
        "  BACKBONE = \"resnet50\"\n",
        "  NAME = \"taco\"\n",
        "  GPU_COUNT = 1\n",
        "  IMAGES_PER_GPU = 1\n",
        "  NUM_CLASSES = dataset.num_classes\n",
        "\n",
        "  # DETECTION_NMS_THRESHOLD = 0.3\n",
        "\n",
        "config = TacoTestConfig()\n",
        "config.display()"
      ],
      "execution_count": null,
      "outputs": []
    },
    {
      "cell_type": "code",
      "metadata": {
        "id": "wcCWTXWnieTu"
      },
      "source": [
        "# Create model and load trained weights\n",
        "model = modellib.MaskRCNN(mode=\"inference\", model_dir='mask_rcnn_taco.hy',\n",
        "                          config=config)\n",
        "\n",
        "# models/logs/taco20210730T1340/\n",
        "model.load_weights('../../mask_rcnn_taco_0100.h5',\n",
        "                   by_name=True, weights_out_path=None)"
      ],
      "execution_count": null,
      "outputs": []
    },
    {
      "cell_type": "code",
      "metadata": {
        "id": "11eIzWLDkhnR"
      },
      "source": [
        "# List class names depending on the map used\n",
        "class_names = [\"BG\",\"Bottle\",\"Bottle cap\",\"Can\",\"Cigarette\",\"Cup\",\n",
        "               \"Lid\",\"Other\",\"Plastic bag + wrapper\",\"Pop tab\",\"Straw\"]\n",
        "#class_names = ['BG', 'Bag & wrapper', 'Blister pack', 'Bottle cap',\n",
        "#               'Can', 'Cardboard', 'Carton', 'Cigarette', 'Container',\n",
        "#               'Cup', 'Food waste', 'Glass', 'Glass bottle', 'Lid',\n",
        "#               'Other', 'Other plastic', 'Paper', 'Plastic bottle',\n",
        "#               'Pop tab', 'Straw', 'Styrofoam', 'Tube']"
      ],
      "execution_count": 7,
      "outputs": []
    },
    {
      "cell_type": "code",
      "metadata": {
        "id": "gVEf12bZkxAJ"
      },
      "source": [
        "# Select an image to test. Store in in uploaded images or grab an image that you trained on\n",
        "\n",
        "imagePath = \"../../uploaded_images/\"\n",
        "# imagePath = \"../data/batch_0\"\n",
        "imageName = \"1.jpg\"\n",
        "img = Image.open(os.path.join(imagePath, imageName))\n",
        "\n",
        "fileName = os.path.splitext(imageName)[0]\n",
        "fileExtension = os.path.splitext(imageName)[1]\n",
        "\n",
        "if fileExtension != '.jpg':\n",
        "  img.convert('RGB').save(\"{}{}.jpg\".format(imagePath, fileName))\n",
        "  imageName = \"{}.jpg\".format(fileName)\n",
        "\n",
        "image = skimage.io.imread(os.path.join(imagePath, imageName))"
      ],
      "execution_count": 8,
      "outputs": []
    },
    {
      "cell_type": "code",
      "metadata": {
        "id": "Biet6K_SnAvO"
      },
      "source": [
        "# run detection\n",
        "r = model.detect([image], verbose=0)[0]"
      ],
      "execution_count": null,
      "outputs": []
    },
    {
      "cell_type": "code",
      "metadata": {
        "id": "XAavgxXrmfqf"
      },
      "source": [
        "# Give it a min accuracy score for it to display\n",
        "def min_accuracy(r,a):\n",
        "  result = {'rois': [], 'masks': [], 'class_ids': [], 'scores': []}\n",
        "  indecies = []\n",
        "  for i,ele in enumerate(r['scores']):\n",
        "    if ele >= a:\n",
        "      result['rois'].append(r['rois'][i])\n",
        "      result['class_ids'].append(r['class_ids'][i])\n",
        "      result['scores'].append(r['scores'][i])\n",
        "      indecies.append(i)\n",
        "  \n",
        "  result['masks'] = r['masks'][:,:,indecies]\n",
        "\n",
        "  result['rois'] = np.asarray(result['rois'])\n",
        "  result['masks'] = np.asarray(result['masks'])\n",
        "  result['class_ids'] = np.asarray(result['class_ids'])\n",
        "  result['scores'] = np.asarray(result['scores'])\n",
        "  return result\n",
        "\n",
        "r = min_accuracy(r,0.9)\n",
        "print(r['class_ids'])"
      ],
      "execution_count": null,
      "outputs": []
    },
    {
      "cell_type": "code",
      "metadata": {
        "id": "S3zDJ55TkGZ4"
      },
      "source": [
        "# Display original image\n",
        "plt.figure(figsize=(12,10))\n",
        "skimage.io.imshow(image)"
      ],
      "execution_count": null,
      "outputs": []
    },
    {
      "cell_type": "code",
      "metadata": {
        "id": "VcB-p0YooRpG"
      },
      "source": [
        "# Display annotated image\n",
        "visualize.display_instances(image, imageName, r['rois'], r['masks'],\n",
        "                            r['class_ids'], class_names, r['scores'])"
      ],
      "execution_count": null,
      "outputs": []
    }
  ]
}