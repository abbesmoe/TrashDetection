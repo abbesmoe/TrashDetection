{
  "nbformat": 4,
  "nbformat_minor": 0,
  "metadata": {
    "colab": {
      "name": "detection.ipynb",
      "provenance": [],
      "collapsed_sections": []
    },
    "kernelspec": {
      "display_name": "Python 3",
      "name": "python3"
    },
    "language_info": {
      "name": "python"
    }
  },
  "cells": [
    {
      "cell_type": "markdown",
      "metadata": {
        "id": "rrf7L5m334Db"
      },
      "source": [
        "# After cloning:\n",
        "* .h5 might be corrupt. If so, delete it and redownload it.<br>Original weights from: https://github.com/pedropro/TACO/releases/tag/1.0\n",
        "<br>Custom weights from: https://github.com/abbesmoe/TrashDetection\n",
        "* upload original images into TrashDetection/static/uploads directory\n",
        "\n"
      ]
    },
    {
      "cell_type": "code",
      "metadata": {
        "id": "vnjBHldV3cvZ"
      },
      "source": [
        "# Clone github once\n",
        "!git clone https://github.com/abbesmoe/TrashDetection"
      ],
      "execution_count": null,
      "outputs": []
    },
    {
      "cell_type": "code",
      "metadata": {
        "id": "KNXkOx4oXOBR"
      },
      "source": [
        "# Move github to \"/MyDrive\". This helps you not lose any progress\n",
        "from google.colab import drive\n",
        "\n",
        "drive.mount('/content/gdrive')"
      ],
      "execution_count": null,
      "outputs": []
    },
    {
      "cell_type": "code",
      "metadata": {
        "id": "vp0YTZLH4ytR"
      },
      "source": [
        "# Install latest versions\n",
        "!pip install keras==2.6.0\n",
        "!pip install tensorflow==2.6.0\n",
        "!pip install 'h5py==2.10.0'"
      ],
      "execution_count": null,
      "outputs": []
    },
    {
      "cell_type": "code",
      "metadata": {
        "id": "Gd4SM0NR5KGn"
      },
      "source": [
        "# Change directory to /TrashDetection\n",
        "%cd /content/gdrive/MyDrive/TrashDetection/"
      ],
      "execution_count": null,
      "outputs": []
    },
    {
      "cell_type": "code",
      "metadata": {
        "id": "Hx1qS25f6Lec"
      },
      "source": [
        "# Import packages\n",
        "%matplotlib inline\n",
        "import csv\n",
        "import json\n",
        "import matplotlib.pyplot as plt\n",
        "import numpy as np\n",
        "import os\n",
        "import pandas as pd\n",
        "import skimage.io\n",
        "from detector import dataset\n",
        "from detector import model as modellib\n",
        "from detector import visualize\n",
        "from detector.config import Config\n",
        "from os import path\n",
        "from PIL import Image"
      ],
      "execution_count": null,
      "outputs": []
    },
    {
      "cell_type": "code",
      "metadata": {
        "id": "KL8Ccvyd5VBw"
      },
      "source": [
        "# Load class map\n",
        "class_map = {}\n",
        "with open(\"detector/taco_config/map_10.csv\") as csvfile:\n",
        "    reader = csv.reader(csvfile)\n",
        "    class_map = {row[0]:row[1] for row in reader}\n",
        "\n",
        "TACO_DIR = \"data/\"\n",
        "round = None \n",
        "subset = \"train\"\n",
        "dataset = dataset.Taco()\n",
        "taco = dataset.load_taco(TACO_DIR, round, subset,\n",
        "                         class_map=class_map, return_taco=True)\n",
        "\n",
        "dataset.prepare()\n",
        "\n",
        "print(\"Class Count: {}\".format(dataset.num_classes))\n",
        "for i, info in enumerate(dataset.class_info):\n",
        "    print(\"{:3}. {:50}\".format(i, info['name']))"
      ],
      "execution_count": null,
      "outputs": []
    },
    {
      "cell_type": "code",
      "metadata": {
        "id": "dmvNZvvt5Yjm"
      },
      "source": [
        "# Create config class and override hyperparameters\n",
        "class TacoTestConfig(Config):\n",
        "  NAME = \"taco\"\n",
        "  GPU_COUNT = 1\n",
        "  IMAGES_PER_GPU = 1\n",
        "  NUM_CLASSES = dataset.num_classes\n",
        "\n",
        "  # Changed for training\n",
        "  # BACKBONE = \"resnet101\"\n",
        "  # USE_OBJECT_ZOOM = False\n",
        "  # TRAIN_ROIS_PER_IMAGE = 128\n",
        "  # LEARNING_RATE = 0.01\n",
        "  # GRADIENT_CLIP_NORM = 10.0\n",
        "\n",
        "config = TacoTestConfig()\n",
        "config.display()"
      ],
      "execution_count": null,
      "outputs": []
    },
    {
      "cell_type": "code",
      "metadata": {
        "id": "3BxK89Xi5csE"
      },
      "source": [
        "# Create models and load weights\n",
        "model = modellib.MaskRCNN(mode=\"inference\", model_dir='mask_rcnn_taco.hy',\n",
        "                          config=config)\n",
        "\n",
        "model.load_weights('mask_rcnn_taco_0100.h5', by_name=True,\n",
        "                   weights_out_path=None)"
      ],
      "execution_count": null,
      "outputs": []
    },
    {
      "cell_type": "code",
      "metadata": {
        "id": "33dtGouj5rE0"
      },
      "source": [
        "# Original classes (map_10)\n",
        "class_names = [\"BG\",\"Bottle\",\"Bottle cap\",\"Can\",\"Cigarette\",\"Cup\",\n",
        "               \"Lid\",\"Other\",\"Plastic bag + wrapper\",\"Pop tab\",\"Straw\"]\n",
        "\n",
        "# Custom classes\n",
        "#class_names = ['BG', 'Bag & wrapper', 'Blister pack', 'Bottle cap',\n",
        "#               'Can', 'Cardboard', 'Carton', 'Cigarette', 'Container',\n",
        "#               'Cup', 'Food waste', 'Glass', 'Glass bottle', 'Lid',\n",
        "#               'Other', 'Other plastic', 'Paper', 'Plastic bottle',\n",
        "#               'Pop tab', 'Straw', 'Styrofoam', 'Tube']"
      ],
      "execution_count": null,
      "outputs": []
    },
    {
      "cell_type": "code",
      "metadata": {
        "id": "4EBV1tDXLwhT"
      },
      "source": [
        "# Load uploaded image\n",
        "imagePath = \"static/uploads/\"\n",
        "imageName = \"trash.jpg\"\n",
        "img = Image.open(os.path.join(imagePath, imageName))\n",
        "\n",
        "fileName = os.path.splitext(imageName)[0]\n",
        "fileExtension = os.path.splitext(imageName)[1]\n",
        "\n",
        "# If file isn't jpg, save it as one\n",
        "if fileExtension != '.jpg':\n",
        "  img.convert('RGB').save(\"{}{}.jpg\".format(imagePath, fileName))\n",
        "  imageName = \"{}.jpg\".format(fileName)\n",
        "\n",
        "image = skimage.io.imread(os.path.join(imagePath, imageName))"
      ],
      "execution_count": null,
      "outputs": []
    },
    {
      "cell_type": "code",
      "metadata": {
        "id": "P5f3PSSVuwcg"
      },
      "source": [
        "# run detection\n",
        "r = model.detect([image], verbose=0)[0]"
      ],
      "execution_count": null,
      "outputs": []
    },
    {
      "cell_type": "code",
      "metadata": {
        "id": "8g5qtRr05ycg"
      },
      "source": [
        "# Define minimum detection accuracy\n",
        "def min_accuracy(r,a):\n",
        "  result = {'rois': [], 'masks': [], 'class_ids': [], 'scores': []}\n",
        "  indecies = []\n",
        "  for i,ele in enumerate(r['scores']):\n",
        "    if ele >= a:\n",
        "      result['rois'].append(r['rois'][i])\n",
        "      result['class_ids'].append(r['class_ids'][i])\n",
        "      result['scores'].append(r['scores'][i])\n",
        "      indecies.append(i)\n",
        "  \n",
        "  result['masks'] = r['masks'][:,:,indecies]\n",
        "\n",
        "  result['rois'] = np.asarray(result['rois'])\n",
        "  result['masks'] = np.asarray(result['masks'])\n",
        "  result['class_ids'] = np.asarray(result['class_ids'])\n",
        "  result['scores'] = np.asarray(result['scores'])\n",
        "  return result\n",
        "\n",
        "r = min_accuracy(r,0.7)\n",
        "print(r['class_ids'])"
      ],
      "execution_count": null,
      "outputs": []
    },
    {
      "cell_type": "code",
      "metadata": {
        "id": "Mu8rO6ouWWVL"
      },
      "source": [
        "# Display original image\n",
        "plt.figure(figsize=(12,10))\n",
        "skimage.io.imshow(image)"
      ],
      "execution_count": null,
      "outputs": []
    },
    {
      "cell_type": "code",
      "metadata": {
        "id": "ZOlmdS4ALpAi"
      },
      "source": [
        "# Display annotated image\n",
        "visualize.display_instances(image, imageName, r['rois'], r['masks'],\n",
        "                            r['class_ids'], class_names, r['scores'])"
      ],
      "execution_count": null,
      "outputs": []
    },
    {
      "cell_type": "markdown",
      "metadata": {
        "id": "T4ItmDXHlXyN"
      },
      "source": [
        "# Blocks for filtering"
      ]
    },
    {
      "cell_type": "code",
      "metadata": {
        "id": "KtCkbhfaPXlh"
      },
      "source": [
        "# run only once, unless you want to empty data.json\n",
        "with open('data.json', 'w') as f:\n",
        "  data = {\"Images\":[]}"
      ],
      "execution_count": null,
      "outputs": []
    },
    {
      "cell_type": "code",
      "metadata": {
        "id": "wAxdC-IBJ25V"
      },
      "source": [
        "# Run after every detection to write data in json file\n",
        "size = len(r['class_ids'])\n",
        "i = 0\n",
        "classNameList = []\n",
        "while i < size:\n",
        "  obj_name = class_names[r['class_ids'][i]]\n",
        "  classNameList.append(obj_name)\n",
        "  i = i + 1\n",
        "\n",
        "def write_json(data, filename=\"data.json\"):\n",
        "  with open(filename, \"w\") as f:\n",
        "    json.dump(data, f, indent=4)\n",
        "\n",
        "\n",
        "img_data = {}\n",
        "img_data[\"Name\"] = \"annotated_{}\".format(imageName)\n",
        "img_data[\"Quantity\"] = len(classNameList)\n",
        "img_data['Classes'] = classNameList\n",
        "\n",
        "data['Images'].append(img_data)\n",
        "\n",
        "write_json(data)"
      ],
      "execution_count": null,
      "outputs": []
    },
    {
      "cell_type": "code",
      "metadata": {
        "id": "7UVjB1A5567H"
      },
      "source": [
        "# Display tables\n",
        "pd.set_option(\"display.max_rows\", None, \"display.max_columns\", None)\n",
        "\n",
        "with open('data.json') as json_data:\n",
        "    data = json.load(json_data)\n",
        "\n",
        "df = pd.DataFrame(data['Images'])\n",
        "print(df)"
      ],
      "execution_count": null,
      "outputs": []
    }
  ]
}